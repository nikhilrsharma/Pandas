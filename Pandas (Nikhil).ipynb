{
 "cells": [
  {
   "cell_type": "code",
   "execution_count": 8,
   "metadata": {},
   "outputs": [
    {
     "name": "stdout",
     "output_type": "stream",
     "text": [
      "0.24.2\n"
     ]
    }
   ],
   "source": [
    "import numpy as np\n",
    "import pandas as pd\n",
    "print(pd.__version__)"
   ]
  },
  {
   "cell_type": "code",
   "execution_count": 9,
   "metadata": {},
   "outputs": [
    {
     "name": "stdout",
     "output_type": "stream",
     "text": [
      "C:\\Users\\Public.DESKTOP-6RBQT7L\\Desktop\\Programming - Maths\\SPACY IITians course\n",
      "\n",
      "['.ipynb_checkpoints', 'Brochure Spacy Data Science Classes.pdf', 'C01L03 - Fiddling around with variables.ipynb', 'C01L07 -  Numpy-Man.ipynb', 'C01L08 - Facing off with Linear Algebra.ipynb', 'C01L09- Chug Data, Spit Frames', 'C01L10- Theatrics with dataframe', 'C01L11 - Measures of Central Tendency and Spread', 'C01L11- Measure of Central Tendency and Spread.ipynb', 'C01L14 - Boxplot etc', 'C01L14_-_Bar_Chart__Line_Plot__Scatter_plot__Boxplot_lyst8640.ipynb', 'C01L15_-_Histogram__Correlation_Heatmap__Two_way_plots.ipynb', 'Factorials_FCP_Combinations_Permutations_120515.pdf', 'Head First Python notes.txt', 'How to start Jupyter Notebook.txt', 'Math Centre PDFs', 'My questions.txt', 'Notes.txt', 'Numpy (Nikhil).ipynb', 'Numpy_Python_Cheat_Sheet.pdf', 'Pandas (Nikhil).ipynb', 'Pandas_PythonCheat_Sheet.pdf', 'Session-1 (Introduction to course - 31-Aug-2019).docx', 'SPACY Google Drive Content', 'Statistics, Matplotlib (Nikhil).ipynb', 'Untitled.ipynb', 'Untitled1.ipynb', 'Untitled2.ipynb', 'Untitled3.ipynb']\n"
     ]
    }
   ],
   "source": [
    "import os\n",
    "print(os.getcwd()), print()\n",
    "print(os.listdir())"
   ]
  },
  {
   "cell_type": "code",
   "execution_count": 10,
   "metadata": {},
   "outputs": [
    {
     "name": "stdout",
     "output_type": "stream",
     "text": [
      "0         1\n",
      "1         2\n",
      "2         3\n",
      "3         4\n",
      "4       NaN\n",
      "5    nikhil\n",
      "6    sharma\n",
      "7     India\n",
      "dtype: object <class 'pandas.core.series.Series'>\n",
      "\n",
      "a         1\n",
      "b         2\n",
      "c         3\n",
      "d         4\n",
      "e       NaN\n",
      "f    nikhil\n",
      "g    sharma\n",
      "h     India\n",
      "dtype: object\n",
      "\n",
      "1\n",
      "sharma\n"
     ]
    }
   ],
   "source": [
    "# S of Series to be in capital\n",
    "s=pd.Series([1,2,3,4,np.nan,'nikhil','sharma','India'])\n",
    "print(s, type(s))\n",
    "print()\n",
    "s=pd.Series([1,2,3,4,np.nan,'nikhil','sharma','India'], index = ['a','b','c','d','e','f','g','h'])\n",
    "print(s), print()\n",
    "print(s[0])\n",
    "print(s['g'])"
   ]
  },
  {
   "cell_type": "code",
   "execution_count": 11,
   "metadata": {},
   "outputs": [
    {
     "name": "stdout",
     "output_type": "stream",
     "text": [
      "          A         B\n",
      "x -0.482853  1.084052\n",
      "y  0.172109  0.586020\n",
      "z -0.222124 -0.166943\n",
      "\n",
      "[['nikhil', 10], ['ankit', 100], ['Mummy', 999], ['Papa', 999]] <class 'list'>\n",
      "      Name  Age\n",
      "aa  nikhil   10\n",
      "bb   ankit  100\n",
      "cc   Mummy  999\n",
      "dd    Papa  999 <class 'pandas.core.frame.DataFrame'>\n",
      "\n",
      "        0    1\n",
      "0  nikhil   10\n",
      "1   ankit  100\n",
      "2   Mummy  999\n",
      "3    Papa  999 <class 'pandas.core.frame.DataFrame'>\n",
      "\n",
      "<class 'dict'>\n",
      "     Name  Age\n",
      "0  Arnold   33\n",
      "1  Ronnie   55\n",
      "2    Jack   66\n"
     ]
    }
   ],
   "source": [
    "df=pd.DataFrame(np.random.randn(3,2), columns = ['A','B'], index=['x','y','z'])\n",
    "print(df)\n",
    "print()\n",
    "data = [ ['nikhil', 10], ['ankit', 100], ['Mummy', 999], ['Papa', 999] ]\n",
    "print(data, type(data))\n",
    "df=pd.DataFrame(data, columns=['Name', 'Age'], index=['aa','bb','cc','dd'] )\n",
    "print(df, type(df))\n",
    "\n",
    "print()\n",
    "data_array=np.array(data) # Converting 'data' list to array and then using it in a DataFrame\n",
    "df2=pd.DataFrame(data_array)\n",
    "print(df2, type(df2))\n",
    "\n",
    "print() #Converting dictionary to df\n",
    "data3 = { 'Name': ['Arnold', 'Ronnie', 'Jack'], 'Age':[33,55,66] }\n",
    "print(type(data3))\n",
    "df3=pd.DataFrame(data3)\n",
    "print(df3)"
   ]
  },
  {
   "cell_type": "code",
   "execution_count": 12,
   "metadata": {},
   "outputs": [
    {
     "name": "stdout",
     "output_type": "stream",
     "text": [
      "   Name  Age\n",
      "0     1   55\n",
      "1     2   66\n",
      "2     3   77\n",
      "3     4   88\n",
      "-----------------------\n",
      "   Name   Age\n",
      "a   1.0  55.0\n",
      "b   2.0  66.0\n",
      "c   3.0  77.0\n",
      "d   4.0   NaN\n",
      "e   NaN  88.0\n",
      "-----------------------\n",
      "[{'Name': 'Arnie', 'Age': 35, 'Country': 'India'}, {'Name': 'Billie', 'Country': 'USA'}] <class 'list'>\n",
      "\n",
      "    Age Country    Name\n",
      "0  35.0   India   Arnie\n",
      "1   NaN     USA  Billie\n"
     ]
    }
   ],
   "source": [
    "data4 = {'Name': pd.Series( [1,2,3,4] ),\n",
    "         'Age': pd.Series ( [55,66,77,88] ) }\n",
    "df4 = pd.DataFrame (data4)\n",
    "print(df4)\n",
    "print(\"-----------------------\")\n",
    "# Below shows how when indexes are mismatched in DataFrame \"NaN\" is used as a filler\n",
    "data4 = {'Name': pd.Series( [1,2,3,4], index= ['a','b','c','d'] ),\n",
    "         'Age': pd.Series ( [55,66,77,88], index= ['a','b','c','e'] ) }\n",
    "df4 = pd.DataFrame (data4)\n",
    "print(df4)\n",
    "\n",
    "# One more mismatch\n",
    "print(\"-----------------------\")\n",
    "data5 = [ {'Name':'Arnie', 'Age':35, 'Country':'India'}, {'Name':'Billie', 'Country':'USA'} ]\n",
    "print(data5, type(data5))\n",
    "df5 = pd.DataFrame (data5)\n",
    "print()\n",
    "print(df5)"
   ]
  },
  {
   "cell_type": "code",
   "execution_count": 13,
   "metadata": {},
   "outputs": [
    {
     "name": "stdout",
     "output_type": "stream",
     "text": [
      "[('nikhil', 11), ('zycron', 22)] <class 'list'>\n",
      "\n",
      "<class 'tuple'>\n",
      "\n",
      "     Name  Height\n",
      "a  nikhil      11\n",
      "b  zycron      22\n"
     ]
    }
   ],
   "source": [
    "name=['nikhil','zycron']\n",
    "age=[11,22,33,44,55]\n",
    "c=list(zip(name,age)) # It ignores mismatched additional numbers in age\n",
    "print(c, type(c))\n",
    "\n",
    "print()\n",
    "d=(name,age) #This is a tuple\n",
    "print(type(d))\n",
    "\n",
    "df=pd.DataFrame(c, columns = ['Name','Height'], index=list('ab'))\n",
    "print()\n",
    "print(df)"
   ]
  },
  {
   "cell_type": "code",
   "execution_count": 14,
   "metadata": {},
   "outputs": [
    {
     "name": "stdout",
     "output_type": "stream",
     "text": [
      "  Name  Age\n",
      "0    a    1\n",
      "1    b    2\n",
      "2    c    3\n",
      "3    d    4\n",
      "4    e    5\n",
      "\n",
      "  Name  Age\n",
      "0    a    1\n",
      "1    b    2\n",
      "\n",
      "  Name  Age\n",
      "4    e    5\n",
      "5    f    6\n",
      "\n",
      "Index(['Name', 'Age'], dtype='object')\n",
      "\n",
      "RangeIndex(start=0, stop=6, step=1)\n",
      "\n",
      "<class 'pandas.core.frame.DataFrame'>\n",
      "RangeIndex: 6 entries, 0 to 5\n",
      "Data columns (total 2 columns):\n",
      "Name    6 non-null object\n",
      "Age     6 non-null int64\n",
      "dtypes: int64(1), object(1)\n",
      "memory usage: 176.0+ bytes\n",
      "None\n"
     ]
    }
   ],
   "source": [
    "c={'Name':['a','b','c','d','e','f'], 'Age':[1,2,3,4,5,6]}\n",
    "df=pd.DataFrame(c)\n",
    "print(df.head()) # Prints only first top 5 rows\n",
    "print()\n",
    "print(df.head(2))\n",
    "print()\n",
    "print(df.tail(2)) # Prints only bottom x rows\n",
    "print()\n",
    "print(df.columns)\n",
    "print()\n",
    "print(df.index)\n",
    "print()\n",
    "print(df.info())"
   ]
  },
  {
   "cell_type": "code",
   "execution_count": 15,
   "metadata": {},
   "outputs": [
    {
     "name": "stdout",
     "output_type": "stream",
     "text": [
      "  Name  Age\n",
      "0    a    1\n",
      "1    b    2\n",
      "2    c    3\n",
      "3    d    4\n",
      "4    e    5\n",
      "5    f    6\n",
      "\n",
      "  Newer-Name  Age\n",
      "0          a    1\n",
      "1          b    2\n",
      "2          c    3\n",
      "3          d    4\n",
      "4          e    5\n",
      "5          f    6\n",
      "\n"
     ]
    }
   ],
   "source": [
    "c={'Name':['a','b','c','d','e','f'], 'Age':[1,2,3,4,5,6]}\n",
    "df=pd.DataFrame(c)\n",
    "print(df)\n",
    "print()\n",
    "df1=df.rename({'Name':'Newer-Name'}, axis=1 )\n",
    "print(df1) # You'd have to use print() to see the replacement\n",
    "print()\n",
    "df.rename( {'Age':'Old'}, axis=1, inplace=True )"
   ]
  },
  {
   "cell_type": "code",
   "execution_count": 16,
   "metadata": {},
   "outputs": [
    {
     "name": "stdout",
     "output_type": "stream",
     "text": [
      "<class 'pandas.core.frame.DataFrame'>\n",
      "RangeIndex: 3000 entries, 0 to 2999\n",
      "Data columns (total 23 columns):\n",
      "id                       3000 non-null int64\n",
      "belongs_to_collection    604 non-null object\n",
      "budget                   3000 non-null int64\n",
      "genres                   2993 non-null object\n",
      "homepage                 946 non-null object\n",
      "imdb_id                  3000 non-null object\n",
      "original_language        3000 non-null object\n",
      "original_title           3000 non-null object\n",
      "overview                 2992 non-null object\n",
      "popularity               3000 non-null float64\n",
      "poster_path              2999 non-null object\n",
      "production_companies     2844 non-null object\n",
      "production_countries     2945 non-null object\n",
      "release_date             3000 non-null object\n",
      "runtime                  2998 non-null float64\n",
      "spoken_languages         2980 non-null object\n",
      "status                   3000 non-null object\n",
      "tagline                  2403 non-null object\n",
      "title                    3000 non-null object\n",
      "Keywords                 2724 non-null object\n",
      "cast                     2987 non-null object\n",
      "crew                     2984 non-null object\n",
      "revenue                  3000 non-null int64\n",
      "dtypes: float64(2), int64(3), object(18)\n",
      "memory usage: 539.1+ KB\n"
     ]
    },
    {
     "data": {
      "text/plain": [
       "pandas.core.series.Series"
      ]
     },
     "execution_count": 16,
     "metadata": {},
     "output_type": "execute_result"
    }
   ],
   "source": [
    "imdb=pd.read_csv('C:/Users/Public.DESKTOP-6RBQT7L/Desktop/Programming - Maths/SPACY IITians course/C01L09- Chug Data, Spit Frames/data/train.csv'\n",
    ",sep=',') #header=None,names=cols\n",
    "\n",
    "imdb.info()\n",
    "\n",
    "type(imdb['id'])"
   ]
  },
  {
   "cell_type": "code",
   "execution_count": 17,
   "metadata": {},
   "outputs": [
    {
     "name": "stdout",
     "output_type": "stream",
     "text": [
      "<class 'pandas.core.frame.DataFrame'>\n",
      "RangeIndex: 22 entries, 0 to 21\n",
      "Data columns (total 2 columns):\n",
      "Columns        22 non-null object\n",
      "Description    22 non-null object\n",
      "dtypes: object(2)\n",
      "memory usage: 432.0+ bytes\n"
     ]
    }
   ],
   "source": [
    "data_info = pd.read_excel('C:/Users/Public.DESKTOP-6RBQT7L/Desktop/Programming - Maths/SPACY IITians course/C01L09- Chug Data, Spit Frames/data/data_info.xlsx', sheet_name='merchant'\n",
    ",sep=',')\n",
    "\n",
    "data_info.info()"
   ]
  },
  {
   "cell_type": "code",
   "execution_count": 18,
   "metadata": {},
   "outputs": [
    {
     "name": "stdout",
     "output_type": "stream",
     "text": [
      "<class 'pandas.core.frame.DataFrame'>\n",
      "RangeIndex: 11 entries, 0 to 10\n",
      "Data columns (total 5 columns):\n",
      "_id         11 non-null int64\n",
      "exam        11 non-null float64\n",
      "homework    11 non-null float64\n",
      "name        11 non-null object\n",
      "quiz        11 non-null int64\n",
      "dtypes: float64(2), int64(2), object(1)\n",
      "memory usage: 520.0+ bytes\n"
     ]
    },
    {
     "data": {
      "text/plain": [
       "pandas.core.frame.DataFrame"
      ]
     },
     "execution_count": 18,
     "metadata": {},
     "output_type": "execute_result"
    }
   ],
   "source": [
    "students = pd.read_json(\"C:/Users/Public.DESKTOP-6RBQT7L/Desktop/Programming - Maths/SPACY IITians course/C01L09- Chug Data, Spit Frames/data/students.json\",lines= True)\n",
    "\n",
    "students.info()\n",
    "\n",
    "type(students)"
   ]
  },
  {
   "cell_type": "code",
   "execution_count": 19,
   "metadata": {},
   "outputs": [
    {
     "name": "stdout",
     "output_type": "stream",
     "text": [
      "    _id  exam    homework              name  quiz\n",
      "0     0   1.5   35.874035        aimee Zank    12\n",
      "1     1   2.8   36.000000  Aurelia Menendez    15\n",
      "2     2   3.5   40.000000       Corliss Zuk    10\n",
      "3     3   3.6   49.000000        Bao Ziglar    20\n",
      "4     4   3.7   54.000000  Zachary Langlais    20\n",
      "5     5   4.9   96.000000    Wilburn Spiess    19\n",
      "6     6   4.8  100.000000  Jenette Flanders    16\n",
      "7     7   3.2   54.000000      Salena Olmos    17\n",
      "8     8   3.1   43.000000      Daphne Zheng    13\n",
      "9     9   4.6   90.000000        Sanda Ryba    19\n",
      "10   10   3.9   67.000000      Denisha Cast    18\n"
     ]
    }
   ],
   "source": [
    "students.to_pickle(\"C:/Users/Public.DESKTOP-6RBQT7L/Desktop/Programming - Maths/SPACY IITians course/C01L09- Chug Data, Spit Frames/data/students.pkl\")\n",
    "\n",
    "students_pickle=pd.read_pickle(\"C:/Users/Public.DESKTOP-6RBQT7L/Desktop/Programming - Maths/SPACY IITians course/C01L09- Chug Data, Spit Frames/data/students.pkl\")\n",
    "\n",
    "print(students_pickle)"
   ]
  },
  {
   "cell_type": "code",
   "execution_count": 20,
   "metadata": {},
   "outputs": [
    {
     "name": "stdout",
     "output_type": "stream",
     "text": [
      "   index            date  duration  item    month   network network_type\n",
      "0      0  15/10/14 06:58    34.429  data  2014-11      data         data\n",
      "1      1  15/10/14 06:58    13.000  call  2014-11  Vodafone       mobile\n",
      "2      2  15/10/14 14:46    23.000  call  2014-11    Meteor       mobile\n",
      "3      3  15/10/14 14:48     4.000  call  2014-11     Tesco       mobile\n",
      "4      4  15/10/14 17:27     4.000  call  2014-11     Tesco       mobile\n",
      "            index      duration\n",
      "count  830.000000    830.000000\n",
      "mean   414.500000    117.804036\n",
      "std    239.744656    444.129560\n",
      "min      0.000000      1.000000\n",
      "25%    207.250000      1.000000\n",
      "50%    414.500000     24.500000\n",
      "75%    621.750000     55.000000\n",
      "max    829.000000  10528.000000\n",
      "------------------------------\n",
      "\n",
      "0    2014-11\n",
      "1    2014-11\n",
      "2    2014-11\n",
      "3    2014-11\n",
      "4    2014-11\n",
      "Name: month, dtype: object\n",
      "\n",
      "0    2014-11\n",
      "1    2014-11\n",
      "2    2014-11\n",
      "3    2014-11\n",
      "4    2014-11\n",
      "Name: month, dtype: object\n",
      "\n",
      "     month            date\n",
      "0  2014-11  15/10/14 06:58\n",
      "1  2014-11  15/10/14 06:58\n",
      "2  2014-11  15/10/14 14:46\n",
      "3  2014-11  15/10/14 14:48\n",
      "4  2014-11  15/10/14 17:27\n",
      "------------------------------\n",
      "\n",
      "Meteor\n"
     ]
    }
   ],
   "source": [
    "df1=pd.read_csv('C:/Users/Public.DESKTOP-6RBQT7L/Desktop/Programming - Maths/SPACY IITians course/C01L10- Theatrics with dataframe//data/phone_data.csv',sep=',')\n",
    "\n",
    "print(df1.head())\n",
    "print(df1.describe())\n",
    "print(\"------------------------------\")\n",
    "print()\n",
    "print(df1['month'].head()) # display only selected columns\n",
    "print()\n",
    "print(df1.month.head()) # display only selected columns\n",
    "print()\n",
    "print(df1[['month','date']].head()) # display multiple selected columns\n",
    "print(\"------------------------------\")\n",
    "print()\n",
    "print(df1['network'][2])"
   ]
  },
  {
   "cell_type": "code",
   "execution_count": 21,
   "metadata": {},
   "outputs": [
    {
     "name": "stdout",
     "output_type": "stream",
     "text": [
      "    item  duration network\n",
      "2   call    23.000  Meteor\n",
      "4   call     4.000   Tesco\n",
      "6   data    34.429    data\n",
      "8   call  1050.000   Three\n",
      "10  call  1183.000   Three\n",
      "12   sms     1.000  Meteor\n",
      "*****************************\n",
      "    index            date  duration\n",
      "2       2  15/10/14 14:46    23.000\n",
      "4       4  15/10/14 17:27     4.000\n",
      "6       6  16/10/14 06:58    34.429\n",
      "8       8  16/10/14 15:12  1050.000\n",
      "10     10  16/10/14 16:21  1183.000\n"
     ]
    }
   ],
   "source": [
    "print(df1.loc[2:12:2,['item','duration','network']]) # here the to-number after \":\" is inclusive unlike other places in python, numpy, pandas etc.\n",
    "# df.loc - works on column names, mandatory to know them\n",
    "print(\"*****************************\")\n",
    "print(df1.iloc[2:12:2,0:3])\n",
    "# df.iloc - works on column number, hence no column names are required"
   ]
  },
  {
   "cell_type": "code",
   "execution_count": 22,
   "metadata": {},
   "outputs": [
    {
     "name": "stdout",
     "output_type": "stream",
     "text": [
      "    index            date  duration  item    month network network_type\n",
      "3       3  15/10/14 14:48       4.0  call  2014-11   Tesco       mobile\n",
      "4       4  15/10/14 17:27       4.0  call  2014-11   Tesco       mobile\n",
      "5       5  15/10/14 18:55       4.0  call  2014-11   Tesco       mobile\n",
      "21     21  17/10/14 17:30     375.0  call  2014-11   Tesco       mobile\n",
      "27     27  18/10/14 11:51     783.0  call  2014-11   Tesco       mobile\n",
      "\n",
      "   index            date  duration  item    month   network network_type\n",
      "0      0  15/10/14 06:58    34.429  data  2014-11      data         data\n",
      "1      1  15/10/14 06:58    13.000  call  2014-11  Vodafone       mobile\n",
      "2      2  15/10/14 14:46    23.000  call  2014-11    Meteor       mobile\n",
      "6      6  16/10/14 06:58    34.429  data  2014-11      data         data\n",
      "7      7  16/10/14 15:01   602.000  call  2014-11     Three       mobile\n",
      "-----------------------------------\n",
      "\n",
      "Adding columns:\n",
      "\n",
      "   index            date  duration  item    month   network network_type  \\\n",
      "0      0  15/10/14 06:58    34.429  data  2014-11      data         data   \n",
      "1      1  15/10/14 06:58    13.000  call  2014-11  Vodafone       mobile   \n",
      "2      2  15/10/14 14:46    23.000  call  2014-11    Meteor       mobile   \n",
      "3      3  15/10/14 14:48     4.000  call  2014-11     Tesco       mobile   \n",
      "4      4  15/10/14 17:27     4.000  call  2014-11     Tesco       mobile   \n",
      "\n",
      "   new column  \n",
      "0      68.858  \n",
      "1      26.000  \n",
      "2      46.000  \n",
      "3       8.000  \n",
      "4       8.000  \n",
      "--------------------------\n",
      "\n",
      "Dropping columns:\n",
      "\n",
      "             date  duration  item   network network_type  new column\n",
      "0  15/10/14 06:58    34.429  data      data         data      68.858\n",
      "1  15/10/14 06:58    13.000  call  Vodafone       mobile      26.000\n",
      "2  15/10/14 14:46    23.000  call    Meteor       mobile      46.000\n",
      "3  15/10/14 14:48     4.000  call     Tesco       mobile       8.000\n",
      "4  15/10/14 17:27     4.000  call     Tesco       mobile       8.000\n"
     ]
    }
   ],
   "source": [
    "df1=pd.read_csv('C:/Users/Public.DESKTOP-6RBQT7L/Desktop/Programming - Maths/SPACY IITians course/C01L10- Theatrics with dataframe//data/phone_data.csv',sep=',')\n",
    "# Boolean Index\n",
    "condition = (df1.item == 'call') & (df1.network == 'Tesco')\n",
    "print(df1[condition].head())\n",
    "print()\n",
    "print(df1[~condition].head())\n",
    "print(\"-----------------------------------\")\n",
    "print(\"\\nAdding columns:\\n\")\n",
    "df1['new column']=df1['duration']*2 # adds a new  column based on calculations on existing columns\n",
    "print(df1.head())\n",
    "print(\"--------------------------\")\n",
    "print(\"\\nDropping columns:\\n\")\n",
    "df1.drop(['month','index'],axis=1,inplace=True)\n",
    "print(df1.head())"
   ]
  },
  {
   "cell_type": "code",
   "execution_count": 23,
   "metadata": {},
   "outputs": [
    {
     "name": "stdout",
     "output_type": "stream",
     "text": [
      "             date  duration  item   network network_type  new column  \\\n",
      "0  15/10/14 06:58    34.429  data      data         data      68.858   \n",
      "1  15/10/14 06:58    13.000  call  Vodafone       mobile      26.000   \n",
      "2  15/10/14 14:46    23.000  call    Meteor       mobile      46.000   \n",
      "3  15/10/14 14:48     4.000  call     Tesco       mobile       8.000   \n",
      "4  15/10/14 17:27     4.000  call     Tesco       mobile       8.000   \n",
      "\n",
      "      new_comment  \n",
      "0   Sahi hai beta  \n",
      "1   Sahi hai beta  \n",
      "2   Sahi hai beta  \n",
      "3  Paagal hai kya  \n",
      "4  Paagal hai kya  \n"
     ]
    }
   ],
   "source": [
    "# lambda function - Row wise operation\n",
    "def new_comment(network):\n",
    "    if network == 'Tesco':\n",
    "        new_comment = \"Paagal hai kya\"\n",
    "    else:\n",
    "        new_comment = \"Sahi hai beta\"\n",
    "    \n",
    "    return new_comment\n",
    "\n",
    "\n",
    "df1['new_comment'] = df1.apply(lambda x: new_comment(x['network']), axis=1)\n",
    "print(df1.head())"
   ]
  },
  {
   "cell_type": "code",
   "execution_count": 24,
   "metadata": {},
   "outputs": [
    {
     "data": {
      "text/html": [
       "<div>\n",
       "<style scoped>\n",
       "    .dataframe tbody tr th:only-of-type {\n",
       "        vertical-align: middle;\n",
       "    }\n",
       "\n",
       "    .dataframe tbody tr th {\n",
       "        vertical-align: top;\n",
       "    }\n",
       "\n",
       "    .dataframe thead th {\n",
       "        text-align: right;\n",
       "    }\n",
       "</style>\n",
       "<table border=\"1\" class=\"dataframe\">\n",
       "  <thead>\n",
       "    <tr style=\"text-align: right;\">\n",
       "      <th></th>\n",
       "      <th>date</th>\n",
       "      <th>duration</th>\n",
       "      <th>item</th>\n",
       "      <th>network</th>\n",
       "      <th>network_type</th>\n",
       "      <th>new column</th>\n",
       "      <th>new_comment</th>\n",
       "    </tr>\n",
       "  </thead>\n",
       "  <tbody>\n",
       "    <tr>\n",
       "      <th>829</th>\n",
       "      <td>14/03/15 00:16</td>\n",
       "      <td>1.0</td>\n",
       "      <td>sms</td>\n",
       "      <td>world</td>\n",
       "      <td>world</td>\n",
       "      <td>2.0</td>\n",
       "      <td>Sahi hai beta</td>\n",
       "    </tr>\n",
       "    <tr>\n",
       "      <th>247</th>\n",
       "      <td>18/11/14 08:45</td>\n",
       "      <td>1.0</td>\n",
       "      <td>sms</td>\n",
       "      <td>Vodafone</td>\n",
       "      <td>mobile</td>\n",
       "      <td>2.0</td>\n",
       "      <td>Sahi hai beta</td>\n",
       "    </tr>\n",
       "    <tr>\n",
       "      <th>246</th>\n",
       "      <td>18/11/14 08:42</td>\n",
       "      <td>1.0</td>\n",
       "      <td>sms</td>\n",
       "      <td>Vodafone</td>\n",
       "      <td>mobile</td>\n",
       "      <td>2.0</td>\n",
       "      <td>Sahi hai beta</td>\n",
       "    </tr>\n",
       "    <tr>\n",
       "      <th>245</th>\n",
       "      <td>18/11/14 08:39</td>\n",
       "      <td>1.0</td>\n",
       "      <td>sms</td>\n",
       "      <td>Vodafone</td>\n",
       "      <td>mobile</td>\n",
       "      <td>2.0</td>\n",
       "      <td>Sahi hai beta</td>\n",
       "    </tr>\n",
       "    <tr>\n",
       "      <th>244</th>\n",
       "      <td>18/11/14 08:34</td>\n",
       "      <td>1.0</td>\n",
       "      <td>sms</td>\n",
       "      <td>Vodafone</td>\n",
       "      <td>mobile</td>\n",
       "      <td>2.0</td>\n",
       "      <td>Sahi hai beta</td>\n",
       "    </tr>\n",
       "    <tr>\n",
       "      <th>243</th>\n",
       "      <td>18/11/14 08:34</td>\n",
       "      <td>1.0</td>\n",
       "      <td>sms</td>\n",
       "      <td>Vodafone</td>\n",
       "      <td>mobile</td>\n",
       "      <td>2.0</td>\n",
       "      <td>Sahi hai beta</td>\n",
       "    </tr>\n",
       "    <tr>\n",
       "      <th>242</th>\n",
       "      <td>18/11/14 08:33</td>\n",
       "      <td>1.0</td>\n",
       "      <td>sms</td>\n",
       "      <td>Vodafone</td>\n",
       "      <td>mobile</td>\n",
       "      <td>2.0</td>\n",
       "      <td>Sahi hai beta</td>\n",
       "    </tr>\n",
       "  </tbody>\n",
       "</table>\n",
       "</div>"
      ],
      "text/plain": [
       "               date  duration item   network network_type  new column  \\\n",
       "829  14/03/15 00:16       1.0  sms     world        world         2.0   \n",
       "247  18/11/14 08:45       1.0  sms  Vodafone       mobile         2.0   \n",
       "246  18/11/14 08:42       1.0  sms  Vodafone       mobile         2.0   \n",
       "245  18/11/14 08:39       1.0  sms  Vodafone       mobile         2.0   \n",
       "244  18/11/14 08:34       1.0  sms  Vodafone       mobile         2.0   \n",
       "243  18/11/14 08:34       1.0  sms  Vodafone       mobile         2.0   \n",
       "242  18/11/14 08:33       1.0  sms  Vodafone       mobile         2.0   \n",
       "\n",
       "       new_comment  \n",
       "829  Sahi hai beta  \n",
       "247  Sahi hai beta  \n",
       "246  Sahi hai beta  \n",
       "245  Sahi hai beta  \n",
       "244  Sahi hai beta  \n",
       "243  Sahi hai beta  \n",
       "242  Sahi hai beta  "
      ]
     },
     "execution_count": 24,
     "metadata": {},
     "output_type": "execute_result"
    }
   ],
   "source": [
    "df1.sort_values('duration', ascending=True)[0:7]"
   ]
  },
  {
   "cell_type": "code",
   "execution_count": 25,
   "metadata": {},
   "outputs": [
    {
     "data": {
      "text/html": [
       "<div>\n",
       "<style scoped>\n",
       "    .dataframe tbody tr th:only-of-type {\n",
       "        vertical-align: middle;\n",
       "    }\n",
       "\n",
       "    .dataframe tbody tr th {\n",
       "        vertical-align: top;\n",
       "    }\n",
       "\n",
       "    .dataframe thead th {\n",
       "        text-align: right;\n",
       "    }\n",
       "</style>\n",
       "<table border=\"1\" class=\"dataframe\">\n",
       "  <thead>\n",
       "    <tr style=\"text-align: right;\">\n",
       "      <th></th>\n",
       "      <th>date</th>\n",
       "      <th>duration</th>\n",
       "      <th>item</th>\n",
       "      <th>network</th>\n",
       "      <th>network_type</th>\n",
       "      <th>new column</th>\n",
       "      <th>new_comment</th>\n",
       "    </tr>\n",
       "  </thead>\n",
       "  <tbody>\n",
       "    <tr>\n",
       "      <th>816</th>\n",
       "      <td>04/03/15 12:29</td>\n",
       "      <td>10528.0</td>\n",
       "      <td>call</td>\n",
       "      <td>landline</td>\n",
       "      <td>landline</td>\n",
       "      <td>21056.0</td>\n",
       "      <td>Sahi hai beta</td>\n",
       "    </tr>\n",
       "    <tr>\n",
       "      <th>742</th>\n",
       "      <td>17/02/15 19:09</td>\n",
       "      <td>2328.0</td>\n",
       "      <td>call</td>\n",
       "      <td>Three</td>\n",
       "      <td>mobile</td>\n",
       "      <td>4656.0</td>\n",
       "      <td>Sahi hai beta</td>\n",
       "    </tr>\n",
       "    <tr>\n",
       "      <th>252</th>\n",
       "      <td>19/11/14 18:56</td>\n",
       "      <td>2120.0</td>\n",
       "      <td>call</td>\n",
       "      <td>Three</td>\n",
       "      <td>mobile</td>\n",
       "      <td>4240.0</td>\n",
       "      <td>Sahi hai beta</td>\n",
       "    </tr>\n",
       "    <tr>\n",
       "      <th>59</th>\n",
       "      <td>23/10/14 08:34</td>\n",
       "      <td>1940.0</td>\n",
       "      <td>call</td>\n",
       "      <td>landline</td>\n",
       "      <td>landline</td>\n",
       "      <td>3880.0</td>\n",
       "      <td>Sahi hai beta</td>\n",
       "    </tr>\n",
       "    <tr>\n",
       "      <th>648</th>\n",
       "      <td>25/01/15 16:55</td>\n",
       "      <td>1863.0</td>\n",
       "      <td>call</td>\n",
       "      <td>Three</td>\n",
       "      <td>mobile</td>\n",
       "      <td>3726.0</td>\n",
       "      <td>Sahi hai beta</td>\n",
       "    </tr>\n",
       "  </tbody>\n",
       "</table>\n",
       "</div>"
      ],
      "text/plain": [
       "               date  duration  item   network network_type  new column  \\\n",
       "816  04/03/15 12:29   10528.0  call  landline     landline     21056.0   \n",
       "742  17/02/15 19:09    2328.0  call     Three       mobile      4656.0   \n",
       "252  19/11/14 18:56    2120.0  call     Three       mobile      4240.0   \n",
       "59   23/10/14 08:34    1940.0  call  landline     landline      3880.0   \n",
       "648  25/01/15 16:55    1863.0  call     Three       mobile      3726.0   \n",
       "\n",
       "       new_comment  \n",
       "816  Sahi hai beta  \n",
       "742  Sahi hai beta  \n",
       "252  Sahi hai beta  \n",
       "59   Sahi hai beta  \n",
       "648  Sahi hai beta  "
      ]
     },
     "execution_count": 25,
     "metadata": {},
     "output_type": "execute_result"
    }
   ],
   "source": [
    "df1.sort_values(['duration','network'], ascending=[False,False]).head()"
   ]
  },
  {
   "cell_type": "code",
   "execution_count": 26,
   "metadata": {},
   "outputs": [
    {
     "name": "stdout",
     "output_type": "stream",
     "text": [
      "             date  duration  item   network network_type  new column  \\\n",
      "0  15/10/14 06:58    34.429  data      data         data      68.858   \n",
      "1  15/10/14 06:58    13.000  call  Vodafone       mobile      26.000   \n",
      "2  15/10/14 14:46    23.000  call    Meteor       mobile      46.000   \n",
      "3  15/10/14 14:48     4.000  call     Tesco       mobile       8.000   \n",
      "4  15/10/14 17:27     4.000  call     Tesco       mobile       8.000   \n",
      "\n",
      "      new_comment            new_date  \n",
      "0   Sahi hai beta 2014-10-15 06:58:00  \n",
      "1   Sahi hai beta 2014-10-15 06:58:00  \n",
      "2   Sahi hai beta 2014-10-15 14:46:00  \n",
      "3  Paagal hai kya 2014-10-15 14:48:00  \n",
      "4  Paagal hai kya 2014-10-15 17:27:00  \n",
      "--------------\n",
      "10\n",
      "2014\n",
      "15\n",
      "6\n",
      "58\n",
      "--------------\n",
      "2019-10-05\n",
      "2019-10-05 16:52:16.003221\n"
     ]
    }
   ],
   "source": [
    "from datetime import datetime\n",
    "from datetime import date\n",
    "df1['new_date']=[datetime.strptime(x,'%d/%m/%y %H:%M') for x in df1['date']]\n",
    "print(df1.head())\n",
    "print(\"--------------\")\n",
    "print(df1['new_date'][0].month)\n",
    "print(df1['new_date'][0].year)\n",
    "print(df1['new_date'][0].day)\n",
    "print(df1['new_date'][0].hour)\n",
    "print(df1['new_date'][0].minute)\n",
    "print(\"--------------\")\n",
    "print(date.today())\n",
    "print(datetime.now())"
   ]
  },
  {
   "cell_type": "code",
   "execution_count": 27,
   "metadata": {},
   "outputs": [
    {
     "name": "stdout",
     "output_type": "stream",
     "text": [
      "2019-10-04\n",
      "2019-10-05 17:52:16.038131\n",
      "2019-10-05 16:53:16.038131\n"
     ]
    }
   ],
   "source": [
    "#Operations\n",
    "from datetime import timedelta\n",
    "print(date.today() - timedelta(days=1))\n",
    "print(datetime.now() + timedelta(hours=1))\n",
    "print(datetime.now() + timedelta(seconds=60))"
   ]
  }
 ],
 "metadata": {
  "kernelspec": {
   "display_name": "Python 3",
   "language": "python",
   "name": "python3"
  },
  "language_info": {
   "codemirror_mode": {
    "name": "ipython",
    "version": 3
   },
   "file_extension": ".py",
   "mimetype": "text/x-python",
   "name": "python",
   "nbconvert_exporter": "python",
   "pygments_lexer": "ipython3",
   "version": "3.7.3"
  }
 },
 "nbformat": 4,
 "nbformat_minor": 2
}
