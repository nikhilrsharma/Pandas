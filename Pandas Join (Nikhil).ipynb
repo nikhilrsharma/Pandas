{
 "cells": [
  {
   "cell_type": "markdown",
   "metadata": {},
   "source": [
    "http://www.datasciencemadesimple.com/join-merge-data-frames-pandas-python/"
   ]
  },
  {
   "cell_type": "code",
   "execution_count": 53,
   "metadata": {},
   "outputs": [
    {
     "name": "stdout",
     "output_type": "stream",
     "text": [
      "   Customer_id     Product  Price\n",
      "0            1        Oven   87.5\n",
      "1            2        Oven   66.8\n",
      "2            3        Oven   44.0\n",
      "3            4  Television   32.0\n",
      "4            5  Television   88.0\n",
      "5            6  Television   25.0\n",
      "\n",
      "   Customer_id       State  Price\n",
      "0            5  California   66.8\n",
      "1            6  California   32.0\n",
      "2            7       Texas   25.0\n",
      "3            8     Gujarat   88.0\n",
      "4            9       Delhi   39.0\n"
     ]
    }
   ],
   "source": [
    "import pandas as pd\n",
    "import numpy as np\n",
    " \n",
    "# data frame 1\n",
    "d1 = {\n",
    "    'Customer_id':pd.Series([1,2,3,4,5,6]),\n",
    "    'Product':pd.Series(['Oven','Oven','Oven','Television','Television','Television']),\n",
    "    'Price':pd.Series([87.5,66.8,44,32,88,25])\n",
    "                        }\n",
    "df1 = pd.DataFrame(d1)\n",
    "print(df1)\n",
    "print()\n",
    "\n",
    "# data frame 2\n",
    "d2 ={\n",
    "    'Customer_id':pd.Series([5,6,7,8,9]),\n",
    "    'State':pd.Series(['California','California','Texas', 'Gujarat', 'Delhi']),\n",
    "    'Price':pd.Series([66.8,32,25,88,39])\n",
    "}\n",
    "df2 = pd.DataFrame(d2)\n",
    "print(df2)"
   ]
  },
  {
   "cell_type": "code",
   "execution_count": 54,
   "metadata": {},
   "outputs": [
    {
     "name": "stdout",
     "output_type": "stream",
     "text": [
      "   Customer_id     Product  Price_x       State  Price_y\n",
      "0            5  Television     88.0  California     66.8\n",
      "1            6  Television     25.0  California     32.0\n"
     ]
    }
   ],
   "source": [
    "#inner join in python pandas\n",
    "print (pd.merge(df1, df2, on='Customer_id', how='inner'))\n",
    "# Common columns are suffixed with _x and _y by default"
   ]
  },
  {
   "cell_type": "code",
   "execution_count": 55,
   "metadata": {},
   "outputs": [
    {
     "name": "stdout",
     "output_type": "stream",
     "text": [
      "   Customer_id     Product  PriceLeft_waala       State  PriceRight_waala\n",
      "0            1        Oven             87.5         NaN               NaN\n",
      "1            2        Oven             66.8         NaN               NaN\n",
      "2            3        Oven             44.0         NaN               NaN\n",
      "3            4  Television             32.0         NaN               NaN\n",
      "4            5  Television             88.0  California              66.8\n",
      "5            6  Television             25.0  California              32.0\n",
      "6            7         NaN              NaN       Texas              25.0\n",
      "7            8         NaN              NaN     Gujarat              88.0\n",
      "8            9         NaN              NaN       Delhi              39.0\n"
     ]
    }
   ],
   "source": [
    "# outer join in python pandas\n",
    "print (pd.merge(df1, df2, on='Customer_id', how='outer',suffixes=('Left_waala','Right_waala')))"
   ]
  },
  {
   "cell_type": "code",
   "execution_count": 56,
   "metadata": {},
   "outputs": [
    {
     "name": "stdout",
     "output_type": "stream",
     "text": [
      "   Customer_id     Product  Price_x       State  Price_y\n",
      "0            1        Oven     87.5         NaN      NaN\n",
      "1            2        Oven     66.8         NaN      NaN\n",
      "2            3        Oven     44.0         NaN      NaN\n",
      "3            4  Television     32.0         NaN      NaN\n",
      "4            5  Television     88.0  California     66.8\n",
      "5            6  Television     25.0  California     32.0\n"
     ]
    }
   ],
   "source": [
    "# left join in python\n",
    "print (pd.merge(df1, df2, on='Customer_id', how='left'))"
   ]
  },
  {
   "cell_type": "code",
   "execution_count": 57,
   "metadata": {},
   "outputs": [
    {
     "name": "stdout",
     "output_type": "stream",
     "text": [
      "   Customer_id     Product  Price_x       State  Price_y\n",
      "0            5  Television     88.0  California     66.8\n",
      "1            6  Television     25.0  California     32.0\n",
      "2            7         NaN      NaN       Texas     25.0\n",
      "3            8         NaN      NaN     Gujarat     88.0\n",
      "4            9         NaN      NaN       Delhi     39.0\n"
     ]
    }
   ],
   "source": [
    "# right join in python pandas\n",
    " \n",
    "print (pd.merge(df1, df2, on='Customer_id', how='right'))"
   ]
  },
  {
   "cell_type": "code",
   "execution_count": 58,
   "metadata": {},
   "outputs": [
    {
     "data": {
      "text/html": [
       "<div>\n",
       "<style scoped>\n",
       "    .dataframe tbody tr th:only-of-type {\n",
       "        vertical-align: middle;\n",
       "    }\n",
       "\n",
       "    .dataframe tbody tr th {\n",
       "        vertical-align: top;\n",
       "    }\n",
       "\n",
       "    .dataframe thead th {\n",
       "        text-align: right;\n",
       "    }\n",
       "</style>\n",
       "<table border=\"1\" class=\"dataframe\">\n",
       "  <thead>\n",
       "    <tr style=\"text-align: right;\">\n",
       "      <th></th>\n",
       "      <th>Customer_id</th>\n",
       "      <th>Product</th>\n",
       "      <th>Price</th>\n",
       "    </tr>\n",
       "  </thead>\n",
       "  <tbody>\n",
       "    <tr>\n",
       "      <th>0</th>\n",
       "      <td>1</td>\n",
       "      <td>Oven</td>\n",
       "      <td>87.5</td>\n",
       "    </tr>\n",
       "    <tr>\n",
       "      <th>1</th>\n",
       "      <td>2</td>\n",
       "      <td>Oven</td>\n",
       "      <td>66.8</td>\n",
       "    </tr>\n",
       "    <tr>\n",
       "      <th>2</th>\n",
       "      <td>3</td>\n",
       "      <td>Oven</td>\n",
       "      <td>44.0</td>\n",
       "    </tr>\n",
       "    <tr>\n",
       "      <th>3</th>\n",
       "      <td>4</td>\n",
       "      <td>Television</td>\n",
       "      <td>32.0</td>\n",
       "    </tr>\n",
       "    <tr>\n",
       "      <th>4</th>\n",
       "      <td>5</td>\n",
       "      <td>Television</td>\n",
       "      <td>88.0</td>\n",
       "    </tr>\n",
       "    <tr>\n",
       "      <th>5</th>\n",
       "      <td>6</td>\n",
       "      <td>Television</td>\n",
       "      <td>25.0</td>\n",
       "    </tr>\n",
       "  </tbody>\n",
       "</table>\n",
       "</div>"
      ],
      "text/plain": [
       "   Customer_id     Product  Price\n",
       "0            1        Oven   87.5\n",
       "1            2        Oven   66.8\n",
       "2            3        Oven   44.0\n",
       "3            4  Television   32.0\n",
       "4            5  Television   88.0\n",
       "5            6  Television   25.0"
      ]
     },
     "metadata": {},
     "output_type": "display_data"
    },
    {
     "data": {
      "text/html": [
       "<div>\n",
       "<style scoped>\n",
       "    .dataframe tbody tr th:only-of-type {\n",
       "        vertical-align: middle;\n",
       "    }\n",
       "\n",
       "    .dataframe tbody tr th {\n",
       "        vertical-align: top;\n",
       "    }\n",
       "\n",
       "    .dataframe thead th {\n",
       "        text-align: right;\n",
       "    }\n",
       "</style>\n",
       "<table border=\"1\" class=\"dataframe\">\n",
       "  <thead>\n",
       "    <tr style=\"text-align: right;\">\n",
       "      <th></th>\n",
       "      <th>Customer_id</th>\n",
       "      <th>State</th>\n",
       "      <th>Price</th>\n",
       "    </tr>\n",
       "  </thead>\n",
       "  <tbody>\n",
       "    <tr>\n",
       "      <th>0</th>\n",
       "      <td>5</td>\n",
       "      <td>California</td>\n",
       "      <td>66.8</td>\n",
       "    </tr>\n",
       "    <tr>\n",
       "      <th>1</th>\n",
       "      <td>6</td>\n",
       "      <td>California</td>\n",
       "      <td>32.0</td>\n",
       "    </tr>\n",
       "    <tr>\n",
       "      <th>2</th>\n",
       "      <td>7</td>\n",
       "      <td>Texas</td>\n",
       "      <td>25.0</td>\n",
       "    </tr>\n",
       "    <tr>\n",
       "      <th>3</th>\n",
       "      <td>8</td>\n",
       "      <td>Gujarat</td>\n",
       "      <td>88.0</td>\n",
       "    </tr>\n",
       "    <tr>\n",
       "      <th>4</th>\n",
       "      <td>9</td>\n",
       "      <td>Delhi</td>\n",
       "      <td>39.0</td>\n",
       "    </tr>\n",
       "  </tbody>\n",
       "</table>\n",
       "</div>"
      ],
      "text/plain": [
       "   Customer_id       State  Price\n",
       "0            5  California   66.8\n",
       "1            6  California   32.0\n",
       "2            7       Texas   25.0\n",
       "3            8     Gujarat   88.0\n",
       "4            9       Delhi   39.0"
      ]
     },
     "metadata": {},
     "output_type": "display_data"
    }
   ],
   "source": [
    "display(df1,df2) # another way to display data-frames"
   ]
  },
  {
   "cell_type": "code",
   "execution_count": 59,
   "metadata": {},
   "outputs": [
    {
     "name": "stdout",
     "output_type": "stream",
     "text": [
      "   Customer_id     Product  Price_x       State  Price_y\n",
      "0            5  Television     88.0  California     66.8\n",
      "1            6  Television     25.0  California     32.0\n"
     ]
    }
   ],
   "source": [
    "print(pd.merge(left=df1,right=df2, left_on='Customer_id', right_on='Customer_id', how='inner'))\n",
    "\n",
    "# left_on, right_on used when the column to be joined has different names in different dataframes"
   ]
  },
  {
   "cell_type": "code",
   "execution_count": 62,
   "metadata": {},
   "outputs": [
    {
     "data": {
      "text/html": [
       "<div>\n",
       "<style scoped>\n",
       "    .dataframe tbody tr th:only-of-type {\n",
       "        vertical-align: middle;\n",
       "    }\n",
       "\n",
       "    .dataframe tbody tr th {\n",
       "        vertical-align: top;\n",
       "    }\n",
       "\n",
       "    .dataframe thead th {\n",
       "        text-align: right;\n",
       "    }\n",
       "</style>\n",
       "<table border=\"1\" class=\"dataframe\">\n",
       "  <thead>\n",
       "    <tr style=\"text-align: right;\">\n",
       "      <th></th>\n",
       "      <th>Customer_id</th>\n",
       "      <th>Product</th>\n",
       "      <th>Price</th>\n",
       "    </tr>\n",
       "  </thead>\n",
       "  <tbody>\n",
       "    <tr>\n",
       "      <th>0</th>\n",
       "      <td>1</td>\n",
       "      <td>Oven</td>\n",
       "      <td>87.5</td>\n",
       "    </tr>\n",
       "    <tr>\n",
       "      <th>1</th>\n",
       "      <td>2</td>\n",
       "      <td>Oven</td>\n",
       "      <td>66.8</td>\n",
       "    </tr>\n",
       "    <tr>\n",
       "      <th>2</th>\n",
       "      <td>3</td>\n",
       "      <td>Oven</td>\n",
       "      <td>44.0</td>\n",
       "    </tr>\n",
       "    <tr>\n",
       "      <th>3</th>\n",
       "      <td>4</td>\n",
       "      <td>Television</td>\n",
       "      <td>32.0</td>\n",
       "    </tr>\n",
       "    <tr>\n",
       "      <th>4</th>\n",
       "      <td>5</td>\n",
       "      <td>Television</td>\n",
       "      <td>88.0</td>\n",
       "    </tr>\n",
       "    <tr>\n",
       "      <th>5</th>\n",
       "      <td>6</td>\n",
       "      <td>Television</td>\n",
       "      <td>25.0</td>\n",
       "    </tr>\n",
       "  </tbody>\n",
       "</table>\n",
       "</div>"
      ],
      "text/plain": [
       "   Customer_id     Product  Price\n",
       "0            1        Oven   87.5\n",
       "1            2        Oven   66.8\n",
       "2            3        Oven   44.0\n",
       "3            4  Television   32.0\n",
       "4            5  Television   88.0\n",
       "5            6  Television   25.0"
      ]
     },
     "metadata": {},
     "output_type": "display_data"
    },
    {
     "name": "stdout",
     "output_type": "stream",
     "text": [
      "            Customer_id  Price\n",
      "Product                       \n",
      "Oven                  1   87.5\n",
      "Oven                  2   66.8\n",
      "Oven                  3   44.0\n",
      "Television            4   32.0\n",
      "Television            5   88.0\n",
      "Television            6   25.0\n"
     ]
    }
   ],
   "source": [
    "display(df1) # here index is default 0,1,2....\n",
    "print(df1.set_index('Product',inplace=False)) # changes index"
   ]
  },
  {
   "cell_type": "code",
   "execution_count": 69,
   "metadata": {},
   "outputs": [
    {
     "data": {
      "text/html": [
       "<div>\n",
       "<style scoped>\n",
       "    .dataframe tbody tr th:only-of-type {\n",
       "        vertical-align: middle;\n",
       "    }\n",
       "\n",
       "    .dataframe tbody tr th {\n",
       "        vertical-align: top;\n",
       "    }\n",
       "\n",
       "    .dataframe thead th {\n",
       "        text-align: right;\n",
       "    }\n",
       "</style>\n",
       "<table border=\"1\" class=\"dataframe\">\n",
       "  <thead>\n",
       "    <tr style=\"text-align: right;\">\n",
       "      <th></th>\n",
       "      <th>Customer_id</th>\n",
       "      <th>Product</th>\n",
       "      <th>Price_x</th>\n",
       "      <th>State</th>\n",
       "      <th>Price_y</th>\n",
       "    </tr>\n",
       "  </thead>\n",
       "  <tbody>\n",
       "    <tr>\n",
       "      <th>0</th>\n",
       "      <td>1</td>\n",
       "      <td>Oven</td>\n",
       "      <td>87.5</td>\n",
       "      <td>NaN</td>\n",
       "      <td>NaN</td>\n",
       "    </tr>\n",
       "    <tr>\n",
       "      <th>1</th>\n",
       "      <td>2</td>\n",
       "      <td>Oven</td>\n",
       "      <td>66.8</td>\n",
       "      <td>NaN</td>\n",
       "      <td>NaN</td>\n",
       "    </tr>\n",
       "    <tr>\n",
       "      <th>2</th>\n",
       "      <td>3</td>\n",
       "      <td>Oven</td>\n",
       "      <td>44.0</td>\n",
       "      <td>NaN</td>\n",
       "      <td>NaN</td>\n",
       "    </tr>\n",
       "    <tr>\n",
       "      <th>3</th>\n",
       "      <td>4</td>\n",
       "      <td>Television</td>\n",
       "      <td>32.0</td>\n",
       "      <td>NaN</td>\n",
       "      <td>NaN</td>\n",
       "    </tr>\n",
       "  </tbody>\n",
       "</table>\n",
       "</div>"
      ],
      "text/plain": [
       "   Customer_id     Product  Price_x State  Price_y\n",
       "0            1        Oven     87.5   NaN      NaN\n",
       "1            2        Oven     66.8   NaN      NaN\n",
       "2            3        Oven     44.0   NaN      NaN\n",
       "3            4  Television     32.0   NaN      NaN"
      ]
     },
     "execution_count": 69,
     "metadata": {},
     "output_type": "execute_result"
    }
   ],
   "source": [
    "# Left-excluding merge. Keeps Left excludes common ones\n",
    "\n",
    "(pd.merge(df1, df2, on='Customer_id', how='left', indicator=True)\n",
    "     .query('_merge == \"left_only\"')\n",
    "     .drop('_merge', 1))"
   ]
  },
  {
   "cell_type": "code",
   "execution_count": 70,
   "metadata": {},
   "outputs": [
    {
     "data": {
      "text/html": [
       "<div>\n",
       "<style scoped>\n",
       "    .dataframe tbody tr th:only-of-type {\n",
       "        vertical-align: middle;\n",
       "    }\n",
       "\n",
       "    .dataframe tbody tr th {\n",
       "        vertical-align: top;\n",
       "    }\n",
       "\n",
       "    .dataframe thead th {\n",
       "        text-align: right;\n",
       "    }\n",
       "</style>\n",
       "<table border=\"1\" class=\"dataframe\">\n",
       "  <thead>\n",
       "    <tr style=\"text-align: right;\">\n",
       "      <th></th>\n",
       "      <th>Customer_id</th>\n",
       "      <th>Product</th>\n",
       "      <th>Price_x</th>\n",
       "      <th>State</th>\n",
       "      <th>Price_y</th>\n",
       "    </tr>\n",
       "  </thead>\n",
       "  <tbody>\n",
       "    <tr>\n",
       "      <th>2</th>\n",
       "      <td>7</td>\n",
       "      <td>NaN</td>\n",
       "      <td>NaN</td>\n",
       "      <td>Texas</td>\n",
       "      <td>25.0</td>\n",
       "    </tr>\n",
       "    <tr>\n",
       "      <th>3</th>\n",
       "      <td>8</td>\n",
       "      <td>NaN</td>\n",
       "      <td>NaN</td>\n",
       "      <td>Gujarat</td>\n",
       "      <td>88.0</td>\n",
       "    </tr>\n",
       "    <tr>\n",
       "      <th>4</th>\n",
       "      <td>9</td>\n",
       "      <td>NaN</td>\n",
       "      <td>NaN</td>\n",
       "      <td>Delhi</td>\n",
       "      <td>39.0</td>\n",
       "    </tr>\n",
       "  </tbody>\n",
       "</table>\n",
       "</div>"
      ],
      "text/plain": [
       "   Customer_id Product  Price_x    State  Price_y\n",
       "2            7     NaN      NaN    Texas     25.0\n",
       "3            8     NaN      NaN  Gujarat     88.0\n",
       "4            9     NaN      NaN    Delhi     39.0"
      ]
     },
     "execution_count": 70,
     "metadata": {},
     "output_type": "execute_result"
    }
   ],
   "source": [
    "# Right-excluding merge. Keeps Right excludes common ones\n",
    "\n",
    "(pd.merge(df1, df2, on='Customer_id', how='right', indicator=True)\n",
    "     .query('_merge == \"right_only\"')\n",
    "     .drop('_merge', 1))"
   ]
  },
  {
   "cell_type": "code",
   "execution_count": 75,
   "metadata": {},
   "outputs": [
    {
     "data": {
      "text/html": [
       "<div>\n",
       "<style scoped>\n",
       "    .dataframe tbody tr th:only-of-type {\n",
       "        vertical-align: middle;\n",
       "    }\n",
       "\n",
       "    .dataframe tbody tr th {\n",
       "        vertical-align: top;\n",
       "    }\n",
       "\n",
       "    .dataframe thead th {\n",
       "        text-align: right;\n",
       "    }\n",
       "</style>\n",
       "<table border=\"1\" class=\"dataframe\">\n",
       "  <thead>\n",
       "    <tr style=\"text-align: right;\">\n",
       "      <th></th>\n",
       "      <th>Customer_id</th>\n",
       "      <th>Product</th>\n",
       "      <th>Price_x</th>\n",
       "      <th>State</th>\n",
       "      <th>Price_y</th>\n",
       "    </tr>\n",
       "  </thead>\n",
       "  <tbody>\n",
       "    <tr>\n",
       "      <th>0</th>\n",
       "      <td>1</td>\n",
       "      <td>Oven</td>\n",
       "      <td>87.5</td>\n",
       "      <td>NaN</td>\n",
       "      <td>NaN</td>\n",
       "    </tr>\n",
       "    <tr>\n",
       "      <th>1</th>\n",
       "      <td>2</td>\n",
       "      <td>Oven</td>\n",
       "      <td>66.8</td>\n",
       "      <td>NaN</td>\n",
       "      <td>NaN</td>\n",
       "    </tr>\n",
       "    <tr>\n",
       "      <th>2</th>\n",
       "      <td>3</td>\n",
       "      <td>Oven</td>\n",
       "      <td>44.0</td>\n",
       "      <td>NaN</td>\n",
       "      <td>NaN</td>\n",
       "    </tr>\n",
       "    <tr>\n",
       "      <th>3</th>\n",
       "      <td>4</td>\n",
       "      <td>Television</td>\n",
       "      <td>32.0</td>\n",
       "      <td>NaN</td>\n",
       "      <td>NaN</td>\n",
       "    </tr>\n",
       "    <tr>\n",
       "      <th>6</th>\n",
       "      <td>7</td>\n",
       "      <td>NaN</td>\n",
       "      <td>NaN</td>\n",
       "      <td>Texas</td>\n",
       "      <td>25.0</td>\n",
       "    </tr>\n",
       "    <tr>\n",
       "      <th>7</th>\n",
       "      <td>8</td>\n",
       "      <td>NaN</td>\n",
       "      <td>NaN</td>\n",
       "      <td>Gujarat</td>\n",
       "      <td>88.0</td>\n",
       "    </tr>\n",
       "    <tr>\n",
       "      <th>8</th>\n",
       "      <td>9</td>\n",
       "      <td>NaN</td>\n",
       "      <td>NaN</td>\n",
       "      <td>Delhi</td>\n",
       "      <td>39.0</td>\n",
       "    </tr>\n",
       "  </tbody>\n",
       "</table>\n",
       "</div>"
      ],
      "text/plain": [
       "   Customer_id     Product  Price_x    State  Price_y\n",
       "0            1        Oven     87.5      NaN      NaN\n",
       "1            2        Oven     66.8      NaN      NaN\n",
       "2            3        Oven     44.0      NaN      NaN\n",
       "3            4  Television     32.0      NaN      NaN\n",
       "6            7         NaN      NaN    Texas     25.0\n",
       "7            8         NaN      NaN  Gujarat     88.0\n",
       "8            9         NaN      NaN    Delhi     39.0"
      ]
     },
     "execution_count": 75,
     "metadata": {},
     "output_type": "execute_result"
    }
   ],
   "source": [
    "# Anti-join. Excludes the common (inner) ones\n",
    "\n",
    "(pd.merge(df1, df2, on='Customer_id', how='outer', indicator=True)\n",
    "     .query('_merge != \"both\"')\n",
    "     .drop('_merge', 1))"
   ]
  },
  {
   "cell_type": "code",
   "execution_count": 82,
   "metadata": {},
   "outputs": [
    {
     "name": "stdout",
     "output_type": "stream",
     "text": [
      "Oven          3\n",
      "Television    3\n",
      "Name: Product, dtype: int64\n",
      "\n",
      "            Customer_id  Price\n",
      "Product                       \n",
      "Oven                  3      3\n",
      "Television            3      3\n",
      "\n",
      "0    3\n",
      "1    3\n",
      "2    3\n",
      "3    3\n",
      "4    3\n",
      "5    3\n",
      "Name: Product, dtype: int64\n"
     ]
    }
   ],
   "source": [
    "# Count the number of occurences\n",
    "print(df1['Product'].value_counts())\n",
    "print()\n",
    "print(df1.groupby('Product').count())\n",
    "print()\n",
    "print(df1.groupby('Product')['Product'].transform('count'))"
   ]
  }
 ],
 "metadata": {
  "kernelspec": {
   "display_name": "Python 3",
   "language": "python",
   "name": "python3"
  },
  "language_info": {
   "codemirror_mode": {
    "name": "ipython",
    "version": 3
   },
   "file_extension": ".py",
   "mimetype": "text/x-python",
   "name": "python",
   "nbconvert_exporter": "python",
   "pygments_lexer": "ipython3",
   "version": "3.7.3"
  }
 },
 "nbformat": 4,
 "nbformat_minor": 2
}
